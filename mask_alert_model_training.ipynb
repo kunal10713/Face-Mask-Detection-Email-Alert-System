{
 "cells": [
  {
   "cell_type": "code",
   "execution_count": 3,
   "metadata": {},
   "outputs": [],
   "source": [
    "import cv2\n",
    "import os\n",
    "import numpy as np\n",
    "from tensorflow.keras.utils import to_categorical\n",
    "from sklearn.preprocessing import LabelBinarizer\n",
    "from sklearn.model_selection import train_test_split\n",
    "\n",
    "DIRECTORY = r\"G:\\Experiment\\Face Mask Detection\\Face-Mask-Detection-Alert-System-main\\Face Mask\\Dataset\"\n",
    "CATEGORIES = [\"with_mask\", \"without_mask\"]\n",
    "\n",
    "img_rows, img_cols = 112, 112\n",
    "\n",
    "images = []\n",
    "labels = []\n",
    "\n",
    "for category in CATEGORIES:\n",
    "    folder_path = os.path.join(DIRECTORY, category)\n",
    "    for img in os.listdir(folder_path):\n",
    "        img_path = os.path.join(folder_path, img)\n",
    "        img=cv2.imread(img_path)\n",
    "\n",
    "        try:\n",
    "            #Coverting the image into gray scale\n",
    "            grayscale_img=cv2.cvtColor(img,cv2.COLOR_BGR2GRAY)\n",
    "\n",
    "            #resizing the gray scaled image into size 112x112 in order to keep size of the images consistent           \n",
    "            resized_img=cv2.resize(grayscale_img,(img_rows, img_cols))\n",
    "            images.append(resized_img)\n",
    "            labels.append(category)\n",
    "        # Exception Handling in case any error occurs\n",
    "        except Exception as e:\n",
    "            print('Exception:',e)\n",
    "        \n",
    "images=np.array(images)/255.0\n",
    "images=np.reshape(images,(images.shape[0],img_rows, img_cols,1))\n",
    "\n",
    "\n",
    "# Perform one hot encoding on the labels since the label are in textual form\n",
    "lb=LabelBinarizer()\n",
    "labels=lb.fit_transform(labels)\n",
    "labels = to_categorical(labels)\n",
    "labels = np.array(labels)\n",
    "\n",
    "(train_X, test_X, train_y, test_y) = train_test_split(images, labels, test_size=0.25, \n",
    "                                                      random_state=0)\n"
   ]
  },
  {
   "cell_type": "code",
   "execution_count": 11,
   "metadata": {
    "colab": {
     "base_uri": "https://localhost:8080/",
     "height": 504
    },
    "id": "7W0pXOBWrOes",
    "outputId": "dfb96699-acf5-4b93-d3a8-d19b61409cef"
   },
   "outputs": [
    {
     "name": "stdout",
     "output_type": "stream",
     "text": [
      "Model: \"sequential\"\n",
      "_________________________________________________________________\n",
      "Layer (type)                 Output Shape              Param #   \n",
      "=================================================================\n",
      "conv2d (Conv2D)              (None, 110, 110, 64)      640       \n",
      "_________________________________________________________________\n",
      "activation (Activation)      (None, 110, 110, 64)      0         \n",
      "_________________________________________________________________\n",
      "max_pooling2d (MaxPooling2D) (None, 55, 55, 64)        0         \n",
      "_________________________________________________________________\n",
      "conv2d_1 (Conv2D)            (None, 53, 53, 128)       73856     \n",
      "_________________________________________________________________\n",
      "activation_1 (Activation)    (None, 53, 53, 128)       0         \n",
      "_________________________________________________________________\n",
      "max_pooling2d_1 (MaxPooling2 (None, 26, 26, 128)       0         \n",
      "_________________________________________________________________\n",
      "flatten (Flatten)            (None, 86528)             0         \n",
      "_________________________________________________________________\n",
      "dropout (Dropout)            (None, 86528)             0         \n",
      "_________________________________________________________________\n",
      "dense (Dense)                (None, 64)                5537856   \n",
      "_________________________________________________________________\n",
      "dense_1 (Dense)              (None, 2)                 130       \n",
      "=================================================================\n",
      "Total params: 5,612,482\n",
      "Trainable params: 5,612,482\n",
      "Non-trainable params: 0\n",
      "_________________________________________________________________\n",
      "None\n"
     ]
    }
   ],
   "source": [
    "# Import Necessary Keras Libraries\n",
    "from keras.models import Sequential\n",
    "from keras.layers import Dense,Activation,Flatten,Dropout\n",
    "from keras.layers import Conv2D,MaxPooling2D\n",
    "\n",
    "# Define model paramters\n",
    "num_classes = 2\n",
    "batch_size = 32\n",
    "\n",
    "# Build CNN model using Sequential API\n",
    "model=Sequential()\n",
    "\n",
    "#First layer group containing Convolution, Relu and MaxPooling layers\n",
    "model.add(Conv2D(64,(3,3),input_shape=(img_rows, img_cols, 1)))\n",
    "model.add(Activation('relu'))\n",
    "model.add(MaxPooling2D(pool_size=(2,2)))\n",
    "\n",
    "#Second layer group containing Convolution, Relu and MaxPooling layers\n",
    "model.add(Conv2D(128,(3,3)))\n",
    "model.add(Activation('relu'))\n",
    "model.add(MaxPooling2D(pool_size=(2,2)))\n",
    "\n",
    "#Flatten and Dropout Layer to stack the output convolutions above as well as cater overfitting\n",
    "model.add(Flatten())\n",
    "model.add(Dropout(0.5))\n",
    "\n",
    "# Softmax Classifier\n",
    "model.add(Dense(64,activation='relu'))\n",
    "model.add(Dense(num_classes,activation='softmax'))\n",
    "\n",
    "print(model.summary())\n"
   ]
  },
  {
   "cell_type": "code",
   "execution_count": 12,
   "metadata": {
    "colab": {
     "base_uri": "https://localhost:8080/",
     "height": 1000
    },
    "id": "2p1rw_i8vJjO",
    "outputId": "f9a16b9a-124a-4132-b1c4-20e89f933a79"
   },
   "outputs": [
    {
     "name": "stdout",
     "output_type": "stream",
     "text": [
      "Epoch 1/50\n",
      "68/68 [==============================] - 68s 711ms/step - loss: 0.6581 - accuracy: 0.6422 - val_loss: 0.1777 - val_accuracy: 0.9469\n",
      "Epoch 2/50\n",
      "68/68 [==============================] - 49s 723ms/step - loss: 0.1806 - accuracy: 0.9387 - val_loss: 0.1988 - val_accuracy: 0.9288\n",
      "Epoch 3/50\n",
      "68/68 [==============================] - 49s 725ms/step - loss: 0.1463 - accuracy: 0.9457 - val_loss: 0.2098 - val_accuracy: 0.9288\n",
      "Epoch 4/50\n",
      "68/68 [==============================] - 38s 561ms/step - loss: 0.1043 - accuracy: 0.9641 - val_loss: 1.0873 - val_accuracy: 0.7095\n",
      "Epoch 5/50\n",
      "68/68 [==============================] - 37s 543ms/step - loss: 0.2045 - accuracy: 0.9216 - val_loss: 0.1084 - val_accuracy: 0.9693\n",
      "Epoch 6/50\n",
      "68/68 [==============================] - 37s 548ms/step - loss: 0.0442 - accuracy: 0.9897 - val_loss: 0.1397 - val_accuracy: 0.9553\n",
      "Epoch 7/50\n",
      "68/68 [==============================] - 46s 675ms/step - loss: 0.0403 - accuracy: 0.9880 - val_loss: 0.1115 - val_accuracy: 0.9651\n",
      "Epoch 8/50\n",
      "68/68 [==============================] - 54s 793ms/step - loss: 0.0266 - accuracy: 0.9929 - val_loss: 0.1075 - val_accuracy: 0.9679\n",
      "Epoch 9/50\n",
      "68/68 [==============================] - 54s 799ms/step - loss: 0.0240 - accuracy: 0.9943 - val_loss: 0.1273 - val_accuracy: 0.9707\n",
      "Epoch 10/50\n",
      "68/68 [==============================] - 54s 789ms/step - loss: 0.0164 - accuracy: 0.9937 - val_loss: 0.1024 - val_accuracy: 0.9721\n",
      "Epoch 11/50\n",
      "68/68 [==============================] - 54s 793ms/step - loss: 0.0129 - accuracy: 0.9949 - val_loss: 0.1655 - val_accuracy: 0.9441\n",
      "Epoch 12/50\n",
      "68/68 [==============================] - 54s 791ms/step - loss: 0.0321 - accuracy: 0.9904 - val_loss: 0.1357 - val_accuracy: 0.9679\n",
      "Epoch 13/50\n",
      "68/68 [==============================] - 54s 793ms/step - loss: 0.0109 - accuracy: 0.9959 - val_loss: 0.1353 - val_accuracy: 0.9665\n",
      "Epoch 14/50\n",
      "68/68 [==============================] - 54s 795ms/step - loss: 0.0049 - accuracy: 0.9993 - val_loss: 0.1291 - val_accuracy: 0.9637\n",
      "Epoch 15/50\n",
      "68/68 [==============================] - 54s 802ms/step - loss: 0.0064 - accuracy: 0.9984 - val_loss: 0.1192 - val_accuracy: 0.9679\n",
      "Epoch 16/50\n",
      "68/68 [==============================] - 54s 797ms/step - loss: 0.0041 - accuracy: 0.9994 - val_loss: 0.1195 - val_accuracy: 0.9707\n",
      "Epoch 17/50\n",
      "68/68 [==============================] - 55s 804ms/step - loss: 0.0025 - accuracy: 1.0000 - val_loss: 0.1301 - val_accuracy: 0.9665\n",
      "Epoch 18/50\n",
      "68/68 [==============================] - 55s 802ms/step - loss: 0.0028 - accuracy: 0.9995 - val_loss: 0.1400 - val_accuracy: 0.9679\n",
      "Epoch 19/50\n",
      "68/68 [==============================] - 54s 801ms/step - loss: 0.0033 - accuracy: 0.9996 - val_loss: 0.1371 - val_accuracy: 0.9679\n",
      "Epoch 20/50\n",
      "68/68 [==============================] - 55s 803ms/step - loss: 0.0031 - accuracy: 1.0000 - val_loss: 0.1473 - val_accuracy: 0.9679\n",
      "Epoch 21/50\n",
      "68/68 [==============================] - 55s 805ms/step - loss: 0.0028 - accuracy: 0.9998 - val_loss: 0.1681 - val_accuracy: 0.9651\n",
      "Epoch 22/50\n",
      "68/68 [==============================] - 55s 804ms/step - loss: 0.0013 - accuracy: 0.9998 - val_loss: 0.1633 - val_accuracy: 0.9595\n",
      "Epoch 23/50\n",
      "68/68 [==============================] - 4471s 67s/step - loss: 0.0055 - accuracy: 0.9982 - val_loss: 0.2003 - val_accuracy: 0.9651\n",
      "Epoch 24/50\n",
      "68/68 [==============================] - 42s 611ms/step - loss: 0.0170 - accuracy: 0.9968 - val_loss: 0.1758 - val_accuracy: 0.9651\n",
      "Epoch 25/50\n",
      "68/68 [==============================] - 45s 670ms/step - loss: 0.0178 - accuracy: 0.9921 - val_loss: 0.2358 - val_accuracy: 0.9679\n",
      "Epoch 26/50\n",
      "68/68 [==============================] - 56s 817ms/step - loss: 0.0238 - accuracy: 0.9897 - val_loss: 0.1734 - val_accuracy: 0.9637\n",
      "Epoch 27/50\n",
      "68/68 [==============================] - 53s 777ms/step - loss: 0.0136 - accuracy: 0.9956 - val_loss: 0.2143 - val_accuracy: 0.9609\n",
      "Epoch 28/50\n",
      "68/68 [==============================] - 55s 811ms/step - loss: 0.0086 - accuracy: 0.9939 - val_loss: 0.1710 - val_accuracy: 0.9707\n",
      "Epoch 29/50\n",
      "68/68 [==============================] - 55s 811ms/step - loss: 0.0205 - accuracy: 0.9941 - val_loss: 0.1472 - val_accuracy: 0.9679\n",
      "Epoch 30/50\n",
      "68/68 [==============================] - 50s 733ms/step - loss: 0.0148 - accuracy: 0.9964 - val_loss: 0.1830 - val_accuracy: 0.9609\n",
      "Epoch 31/50\n",
      "68/68 [==============================] - 54s 798ms/step - loss: 0.0369 - accuracy: 0.9884 - val_loss: 0.2091 - val_accuracy: 0.9637\n",
      "Epoch 32/50\n",
      "68/68 [==============================] - 53s 777ms/step - loss: 0.0097 - accuracy: 0.9964 - val_loss: 0.2382 - val_accuracy: 0.9609\n",
      "Epoch 33/50\n",
      "68/68 [==============================] - 53s 773ms/step - loss: 0.0040 - accuracy: 0.9982 - val_loss: 0.1952 - val_accuracy: 0.9721\n",
      "Epoch 34/50\n",
      "68/68 [==============================] - 54s 798ms/step - loss: 9.8152e-04 - accuracy: 1.0000 - val_loss: 0.2523 - val_accuracy: 0.9567\n",
      "Epoch 35/50\n",
      "68/68 [==============================] - 55s 809ms/step - loss: 0.0048 - accuracy: 0.9985 - val_loss: 0.2310 - val_accuracy: 0.9637\n",
      "Epoch 36/50\n",
      "68/68 [==============================] - 53s 783ms/step - loss: 0.0034 - accuracy: 0.9990 - val_loss: 0.1986 - val_accuracy: 0.9525\n",
      "Epoch 37/50\n",
      "68/68 [==============================] - 53s 780ms/step - loss: 0.0065 - accuracy: 0.9960 - val_loss: 0.2242 - val_accuracy: 0.9665\n",
      "Epoch 38/50\n",
      "68/68 [==============================] - 54s 790ms/step - loss: 0.0026 - accuracy: 0.9994 - val_loss: 0.2213 - val_accuracy: 0.9693\n",
      "Epoch 39/50\n",
      "68/68 [==============================] - 50s 734ms/step - loss: 0.0012 - accuracy: 1.0000 - val_loss: 0.2063 - val_accuracy: 0.9707\n",
      "Epoch 40/50\n",
      "68/68 [==============================] - 51s 758ms/step - loss: 0.0010 - accuracy: 1.0000 - val_loss: 0.2154 - val_accuracy: 0.9749\n",
      "Epoch 41/50\n",
      "68/68 [==============================] - 46s 676ms/step - loss: 1.9238e-04 - accuracy: 1.0000 - val_loss: 0.2252 - val_accuracy: 0.9735\n",
      "Epoch 42/50\n",
      "68/68 [==============================] - 52s 768ms/step - loss: 1.3043e-04 - accuracy: 1.0000 - val_loss: 0.2250 - val_accuracy: 0.9735\n",
      "Epoch 43/50\n",
      "68/68 [==============================] - 55s 807ms/step - loss: 1.5786e-04 - accuracy: 1.0000 - val_loss: 0.2325 - val_accuracy: 0.9735\n",
      "Epoch 44/50\n",
      "68/68 [==============================] - 54s 796ms/step - loss: 4.7545e-04 - accuracy: 1.0000 - val_loss: 0.2483 - val_accuracy: 0.9721\n",
      "Epoch 45/50\n",
      "68/68 [==============================] - 56s 818ms/step - loss: 1.2980e-04 - accuracy: 1.0000 - val_loss: 0.2761 - val_accuracy: 0.9693\n",
      "Epoch 46/50\n",
      "68/68 [==============================] - 50s 740ms/step - loss: 4.8349e-04 - accuracy: 1.0000 - val_loss: 0.2600 - val_accuracy: 0.9721\n",
      "Epoch 47/50\n",
      "68/68 [==============================] - 52s 772ms/step - loss: 0.0116 - accuracy: 0.9951 - val_loss: 0.2489 - val_accuracy: 0.9553\n",
      "Epoch 48/50\n",
      "68/68 [==============================] - 42s 621ms/step - loss: 0.0347 - accuracy: 0.9881 - val_loss: 0.2910 - val_accuracy: 0.9427\n",
      "Epoch 49/50\n",
      "68/68 [==============================] - 44s 652ms/step - loss: 0.0274 - accuracy: 0.9938 - val_loss: 0.1744 - val_accuracy: 0.9567\n",
      "Epoch 50/50\n",
      "68/68 [==============================] - 43s 634ms/step - loss: 0.0136 - accuracy: 0.9958 - val_loss: 0.1689 - val_accuracy: 0.9637\n"
     ]
    }
   ],
   "source": [
    "## Train the Model\n",
    "\n",
    "from tensorflow.keras.optimizers import Adam\n",
    "epochs = 50\n",
    "\n",
    "\n",
    "adam=Adam(learning_rate = 0.001) \n",
    "model.compile(optimizer='adam', loss = 'categorical_crossentropy', metrics=['accuracy'])\n",
    "\n",
    "fitted_model = model.fit(\n",
    "    train_X,\n",
    "    train_y,\n",
    "    epochs = epochs,\n",
    "    validation_split=0.25)\n",
    "\n"
   ]
  },
  {
   "cell_type": "code",
   "execution_count": 13,
   "metadata": {
    "colab": {
     "base_uri": "https://localhost:8080/",
     "height": 541
    },
    "id": "1E9xCh2QvP0E",
    "outputId": "6380e03c-7f1c-4e12-eec3-41fee892b421"
   },
   "outputs": [
    {
     "data": {
      "image/png": "[encoded data removed]",
      "text/plain": [
       "<Figure size 432x288 with 1 Axes>"
      ]
     },
     "metadata": {
      "needs_background": "light"
     },
     "output_type": "display_data"
    },
    {
     "data": {
      "image/png": "[encoded data removed]",
      "text/plain": [
       "<Figure size 432x288 with 1 Axes>"
      ]
     },
     "metadata": {
      "needs_background": "light"
     },
     "output_type": "display_data"
    }
   ],
   "source": [
    "## Plot the Training Loss & Accuracy\n",
    "\n",
    "from matplotlib import pyplot as plt\n",
    "# Plot Training and Validation Loss\n",
    "plt.plot(fitted_model.history['loss'],'r',label='training loss')\n",
    "plt.plot(fitted_model.history['val_loss'],label='validation loss')\n",
    "plt.xlabel('Number of Epochs')\n",
    "plt.ylabel('Loss Value')\n",
    "plt.legend()\n",
    "plt.show()\n",
    "\n",
    "# Plot Training and Validation Accuracy\n",
    "plt.plot(fitted_model.history['accuracy'],'r',label='training accuracy')\n",
    "plt.plot(fitted_model.history['val_accuracy'],label='validation accuracy')\n",
    "plt.xlabel('Number of Epochs')\n",
    "plt.ylabel('Accuracy Value')\n",
    "plt.legend()\n",
    "plt.show()\n"
   ]
  },
  {
   "cell_type": "code",
   "execution_count": 15,
   "metadata": {
    "id": "aoOJlh0pvWvs"
   },
   "outputs": [],
   "source": [
    "# Save or Serialize the model with the name face_mask_detection_alert_system\n",
    "model.save('face_mask_detection_alert_system1.h5')\n"
   ]
  },
  {
   "cell_type": "code",
   "execution_count": null,
   "metadata": {
    "id": "fIj2OOIAy20s"
   },
   "outputs": [],
   "source": []
  }
 ],
 "metadata": {
  "accelerator": "GPU",
  "colab": {
   "collapsed_sections": [],
   "name": "mask_alert_part1.ipynb",
   "provenance": [],
   "toc_visible": true
  },
  "kernelspec": {
   "display_name": "Python 3",
   "language": "python",
   "name": "python3"
  },
  "language_info": {
   "codemirror_mode": {
    "name": "ipython",
    "version": 3
   },
   "file_extension": ".py",
   "mimetype": "text/x-python",
   "name": "python",
   "nbconvert_exporter": "python",
   "pygments_lexer": "ipython3",
   "version": "3.7.4"
  }
 },
 "nbformat": 4,
 "nbformat_minor": 1
}
